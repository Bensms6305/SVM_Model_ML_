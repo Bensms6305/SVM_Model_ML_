{
 "cells": [
  {
   "cell_type": "code",
   "execution_count": 1,
   "id": "0bf54be0-9612-4174-b98e-59778dbdf3cb",
   "metadata": {},
   "outputs": [],
   "source": [
    "import pandas as pd\n",
    "import numpy as np\n",
    "import sklearn\n",
    "from sklearn import datasets\n",
    "from sklearn import svm\n",
    "import matplotlib.pyplot as plt"
   ]
  },
  {
   "cell_type": "code",
   "execution_count": 2,
   "id": "d4a81d89-40db-45c4-baf4-6d6b74e3ff5f",
   "metadata": {},
   "outputs": [],
   "source": [
    "dataset = datasets.load_wine()"
   ]
  },
  {
   "cell_type": "code",
   "execution_count": 3,
   "id": "4a311f2e-cde9-4795-80e3-9b136c934ee7",
   "metadata": {},
   "outputs": [
    {
     "data": {
      "text/html": [
       "<div>\n",
       "<style scoped>\n",
       "    .dataframe tbody tr th:only-of-type {\n",
       "        vertical-align: middle;\n",
       "    }\n",
       "\n",
       "    .dataframe tbody tr th {\n",
       "        vertical-align: top;\n",
       "    }\n",
       "\n",
       "    .dataframe thead th {\n",
       "        text-align: right;\n",
       "    }\n",
       "</style>\n",
       "<table border=\"1\" class=\"dataframe\">\n",
       "  <thead>\n",
       "    <tr style=\"text-align: right;\">\n",
       "      <th></th>\n",
       "      <th>alcohol</th>\n",
       "      <th>malic_acid</th>\n",
       "      <th>ash</th>\n",
       "      <th>alcalinity_of_ash</th>\n",
       "      <th>magnesium</th>\n",
       "      <th>total_phenols</th>\n",
       "      <th>flavanoids</th>\n",
       "      <th>nonflavanoid_phenols</th>\n",
       "      <th>proanthocyanins</th>\n",
       "      <th>color_intensity</th>\n",
       "      <th>hue</th>\n",
       "      <th>od280/od315_of_diluted_wines</th>\n",
       "      <th>proline</th>\n",
       "    </tr>\n",
       "  </thead>\n",
       "  <tbody>\n",
       "    <tr>\n",
       "      <th>0</th>\n",
       "      <td>14.23</td>\n",
       "      <td>1.71</td>\n",
       "      <td>2.43</td>\n",
       "      <td>15.6</td>\n",
       "      <td>127.0</td>\n",
       "      <td>2.80</td>\n",
       "      <td>3.06</td>\n",
       "      <td>0.28</td>\n",
       "      <td>2.29</td>\n",
       "      <td>5.64</td>\n",
       "      <td>1.04</td>\n",
       "      <td>3.92</td>\n",
       "      <td>1065.0</td>\n",
       "    </tr>\n",
       "    <tr>\n",
       "      <th>1</th>\n",
       "      <td>13.20</td>\n",
       "      <td>1.78</td>\n",
       "      <td>2.14</td>\n",
       "      <td>11.2</td>\n",
       "      <td>100.0</td>\n",
       "      <td>2.65</td>\n",
       "      <td>2.76</td>\n",
       "      <td>0.26</td>\n",
       "      <td>1.28</td>\n",
       "      <td>4.38</td>\n",
       "      <td>1.05</td>\n",
       "      <td>3.40</td>\n",
       "      <td>1050.0</td>\n",
       "    </tr>\n",
       "    <tr>\n",
       "      <th>2</th>\n",
       "      <td>13.16</td>\n",
       "      <td>2.36</td>\n",
       "      <td>2.67</td>\n",
       "      <td>18.6</td>\n",
       "      <td>101.0</td>\n",
       "      <td>2.80</td>\n",
       "      <td>3.24</td>\n",
       "      <td>0.30</td>\n",
       "      <td>2.81</td>\n",
       "      <td>5.68</td>\n",
       "      <td>1.03</td>\n",
       "      <td>3.17</td>\n",
       "      <td>1185.0</td>\n",
       "    </tr>\n",
       "    <tr>\n",
       "      <th>3</th>\n",
       "      <td>14.37</td>\n",
       "      <td>1.95</td>\n",
       "      <td>2.50</td>\n",
       "      <td>16.8</td>\n",
       "      <td>113.0</td>\n",
       "      <td>3.85</td>\n",
       "      <td>3.49</td>\n",
       "      <td>0.24</td>\n",
       "      <td>2.18</td>\n",
       "      <td>7.80</td>\n",
       "      <td>0.86</td>\n",
       "      <td>3.45</td>\n",
       "      <td>1480.0</td>\n",
       "    </tr>\n",
       "    <tr>\n",
       "      <th>4</th>\n",
       "      <td>13.24</td>\n",
       "      <td>2.59</td>\n",
       "      <td>2.87</td>\n",
       "      <td>21.0</td>\n",
       "      <td>118.0</td>\n",
       "      <td>2.80</td>\n",
       "      <td>2.69</td>\n",
       "      <td>0.39</td>\n",
       "      <td>1.82</td>\n",
       "      <td>4.32</td>\n",
       "      <td>1.04</td>\n",
       "      <td>2.93</td>\n",
       "      <td>735.0</td>\n",
       "    </tr>\n",
       "  </tbody>\n",
       "</table>\n",
       "</div>"
      ],
      "text/plain": [
       "   alcohol  malic_acid   ash  alcalinity_of_ash  magnesium  total_phenols  \\\n",
       "0    14.23        1.71  2.43               15.6      127.0           2.80   \n",
       "1    13.20        1.78  2.14               11.2      100.0           2.65   \n",
       "2    13.16        2.36  2.67               18.6      101.0           2.80   \n",
       "3    14.37        1.95  2.50               16.8      113.0           3.85   \n",
       "4    13.24        2.59  2.87               21.0      118.0           2.80   \n",
       "\n",
       "   flavanoids  nonflavanoid_phenols  proanthocyanins  color_intensity   hue  \\\n",
       "0        3.06                  0.28             2.29             5.64  1.04   \n",
       "1        2.76                  0.26             1.28             4.38  1.05   \n",
       "2        3.24                  0.30             2.81             5.68  1.03   \n",
       "3        3.49                  0.24             2.18             7.80  0.86   \n",
       "4        2.69                  0.39             1.82             4.32  1.04   \n",
       "\n",
       "   od280/od315_of_diluted_wines  proline  \n",
       "0                          3.92   1065.0  \n",
       "1                          3.40   1050.0  \n",
       "2                          3.17   1185.0  \n",
       "3                          3.45   1480.0  \n",
       "4                          2.93    735.0  "
      ]
     },
     "execution_count": 3,
     "metadata": {},
     "output_type": "execute_result"
    }
   ],
   "source": [
    "wine_data = pd.DataFrame(dataset.data, columns=dataset.feature_names)\n",
    "wine_data.head()"
   ]
  },
  {
   "cell_type": "code",
   "execution_count": 4,
   "id": "0e634ee4-49f2-43c9-937b-426f16997cbe",
   "metadata": {},
   "outputs": [],
   "source": [
    "malic_acid = dataset['data'][:, 1]\n",
    "magnesium = dataset['data'][:, 4]"
   ]
  },
  {
   "cell_type": "code",
   "execution_count": 5,
   "id": "3daf0e80-1634-40d8-8e86-82d6e0cbef68",
   "metadata": {},
   "outputs": [
    {
     "data": {
      "image/png": "[encoded data removed]",
      "text/plain": [
       "<Figure size 432x288 with 1 Axes>"
      ]
     },
     "metadata": {
      "needs_background": "light"
     },
     "output_type": "display_data"
    }
   ],
   "source": [
    "classes = dataset['target']\n",
    "plt.scatter(malic_acid,magnesium, c = classes)\n",
    "plt.xlabel('malic_acid')\n",
    "plt.ylabel('magnesium')\n",
    "plt.show()"
   ]
  },
  {
   "cell_type": "code",
   "execution_count": 6,
   "id": "ef57a530-266a-43d7-85ad-54688be9febf",
   "metadata": {},
   "outputs": [],
   "source": [
    "x = dataset.data\n",
    "y = dataset.target"
   ]
  },
  {
   "cell_type": "code",
   "execution_count": 7,
   "id": "ac5ba757-c9c1-4681-8a53-3d4a0de56591",
   "metadata": {},
   "outputs": [
    {
     "name": "stdout",
     "output_type": "stream",
     "text": [
      "Model has 91.66666666666666 % accuracy\n"
     ]
    }
   ],
   "source": [
    "x_train, x_test, y_train, y_test = sklearn.model_selection.train_test_split(x, y, test_size=0.2)\n",
    "model = svm.SVC(kernel = 'linear')\n",
    "model.fit(x_train, y_train)\n",
    "accuracy = model.score(x_test,y_test)\n",
    "print('Model has',(accuracy*100),'% accuracy')"
   ]
  },
  {
   "cell_type": "code",
   "execution_count": 9,
   "id": "d7cc29a1-7a08-46bd-8db2-1967de5a372d",
   "metadata": {},
   "outputs": [
    {
     "name": "stdout",
     "output_type": "stream",
     "text": [
      "Model Prediction: : 0 .  Actual value :  0\n",
      "Model Prediction: : 0 .  Actual value :  0\n",
      "Model Prediction: : 2 .  Actual value :  2\n",
      "Model Prediction: : 2 .  Actual value :  2\n",
      "Model Prediction: : 0 .  Actual value :  0\n",
      "Model Prediction: : 2 .  Actual value :  2\n",
      "Model Prediction: : 0 .  Actual value :  0\n",
      "Model Prediction: : 0 .  Actual value :  0\n",
      "Model Prediction: : 1 .  Actual value :  1\n",
      "Model Prediction: : 2 .  Actual value :  2\n",
      "Model Prediction: : 2 .  Actual value :  2\n",
      "Model Prediction: : 1 .  Actual value :  1\n",
      "Model Prediction: : 1 .  Actual value :  1\n",
      "Model Prediction: : 2 .  Actual value :  2\n",
      "Model Prediction: : 2 .  Actual value :  2\n",
      "Model Prediction: : 1 .  Actual value :  1\n",
      "Model Prediction: : 1 .  Actual value :  1\n",
      "Model Prediction: : 1 .  Actual value :  1\n",
      "Model Prediction: : 1 .  Actual value :  1\n",
      "Model Prediction: : 0 .  Actual value :  0\n",
      "Model Prediction: : 0 .  Actual value :  0\n",
      "Model Prediction: : 2 .  Actual value :  2\n",
      "Model Prediction: : 0 .  Actual value :  0\n",
      "Model Prediction: : 2 .  Actual value :  2\n",
      "Model Prediction: : 2 .  Actual value :  2\n",
      "Model Prediction: : 2 .  Actual value :  1\n",
      "Model Prediction: : 0 .  Actual value :  0\n",
      "Model Prediction: : 0 .  Actual value :  1\n",
      "Model Prediction: : 0 .  Actual value :  0\n",
      "Model Prediction: : 2 .  Actual value :  2\n",
      "Model Prediction: : 1 .  Actual value :  1\n",
      "Model Prediction: : 0 .  Actual value :  0\n",
      "Model Prediction: : 1 .  Actual value :  1\n",
      "Model Prediction: : 1 .  Actual value :  1\n",
      "Model Prediction: : 1 .  Actual value :  1\n",
      "Model Prediction: : 0 .  Actual value :  1\n"
     ]
    }
   ],
   "source": [
    "prediction = model.predict(x_test)\n",
    "for i in range(len(prediction)):\n",
    "    print(\"Model Prediction: :\",prediction[i],\".  Actual value : \",y_test[i])"
   ]
  },
  {
   "cell_type": "code",
   "execution_count": null,
   "id": "ed192339-e2f2-49d7-8ff7-123da1b2ad86",
   "metadata": {},
   "outputs": [],
   "source": []
  },
  {
   "cell_type": "code",
   "execution_count": null,
   "id": "6b5e179d",
   "metadata": {},
   "outputs": [],
   "source": []
  }
 ],
 "metadata": {
  "kernelspec": {
   "display_name": "Python 3",
   "language": "python",
   "name": "python3"
  },
  "language_info": {
   "codemirror_mode": {
    "name": "ipython",
    "version": 3
   },
   "file_extension": ".py",
   "mimetype": "text/x-python",
   "name": "python",
   "nbconvert_exporter": "python",
   "pygments_lexer": "ipython3",
   "version": "3.8.11"
  }
 },
 "nbformat": 4,
 "nbformat_minor": 5
}
